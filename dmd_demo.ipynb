{
 "cells": [
  {
   "cell_type": "code",
   "execution_count": 1,
   "metadata": {
    "collapsed": false
   },
   "outputs": [],
   "source": [
    "import bacteriopop_utils\n",
    "import feature_selection_utils\n",
    "import load_data"
   ]
  },
  {
   "cell_type": "code",
   "execution_count": 2,
   "metadata": {
    "collapsed": true
   },
   "outputs": [],
   "source": [
    "loaded_data = data = load_data.load_data()"
   ]
  },
  {
   "cell_type": "code",
   "execution_count": 3,
   "metadata": {
    "collapsed": false
   },
   "outputs": [
    {
     "data": {
      "text/plain": [
       "(64755, 11)"
      ]
     },
     "execution_count": 3,
     "metadata": {},
     "output_type": "execute_result"
    }
   ],
   "source": [
    "loaded_data.shape"
   ]
  },
  {
   "cell_type": "code",
   "execution_count": 4,
   "metadata": {
    "collapsed": false
   },
   "outputs": [
    {
     "data": {
      "text/html": [
       "<div>\n",
       "<table border=\"1\" class=\"dataframe\">\n",
       "  <thead>\n",
       "    <tr style=\"text-align: right;\">\n",
       "      <th></th>\n",
       "      <th>kingdom</th>\n",
       "      <th>phylum</th>\n",
       "      <th>class</th>\n",
       "      <th>order</th>\n",
       "      <th>family</th>\n",
       "      <th>genus</th>\n",
       "      <th>length</th>\n",
       "      <th>oxygen</th>\n",
       "      <th>replicate</th>\n",
       "      <th>week</th>\n",
       "      <th>abundance</th>\n",
       "    </tr>\n",
       "    <tr>\n",
       "      <th>sampleID</th>\n",
       "      <th></th>\n",
       "      <th></th>\n",
       "      <th></th>\n",
       "      <th></th>\n",
       "      <th></th>\n",
       "      <th></th>\n",
       "      <th></th>\n",
       "      <th></th>\n",
       "      <th></th>\n",
       "      <th></th>\n",
       "      <th></th>\n",
       "    </tr>\n",
       "  </thead>\n",
       "  <tbody>\n",
       "    <tr>\n",
       "      <th>1056013</th>\n",
       "      <td>Bacteria</td>\n",
       "      <td>Proteobacteria</td>\n",
       "      <td>Gammaproteobacteria</td>\n",
       "      <td>Methylococcales</td>\n",
       "      <td>Methylococcaceae</td>\n",
       "      <td>Methylobacter</td>\n",
       "      <td>9948861</td>\n",
       "      <td>Low</td>\n",
       "      <td>1</td>\n",
       "      <td>4</td>\n",
       "      <td>0.228531</td>\n",
       "    </tr>\n",
       "    <tr>\n",
       "      <th>1056013</th>\n",
       "      <td>Bacteria</td>\n",
       "      <td>Proteobacteria</td>\n",
       "      <td>Betaproteobacteria</td>\n",
       "      <td>Methylophilales</td>\n",
       "      <td>Methylophilaceae</td>\n",
       "      <td>Methylotenera</td>\n",
       "      <td>5066955</td>\n",
       "      <td>Low</td>\n",
       "      <td>1</td>\n",
       "      <td>4</td>\n",
       "      <td>0.220860</td>\n",
       "    </tr>\n",
       "    <tr>\n",
       "      <th>1056013</th>\n",
       "      <td>Bacteria</td>\n",
       "      <td>Bacteroidetes</td>\n",
       "      <td>Flavobacteriia</td>\n",
       "      <td>Flavobacteriales</td>\n",
       "      <td>Flavobacteriaceae</td>\n",
       "      <td>Flavobacterium</td>\n",
       "      <td>4654774</td>\n",
       "      <td>Low</td>\n",
       "      <td>1</td>\n",
       "      <td>4</td>\n",
       "      <td>0.054719</td>\n",
       "    </tr>\n",
       "    <tr>\n",
       "      <th>1056013</th>\n",
       "      <td>Bacteria</td>\n",
       "      <td>Proteobacteria</td>\n",
       "      <td>Gammaproteobacteria</td>\n",
       "      <td>Methylococcales</td>\n",
       "      <td>Methylococcaceae</td>\n",
       "      <td>other</td>\n",
       "      <td>3046340</td>\n",
       "      <td>Low</td>\n",
       "      <td>1</td>\n",
       "      <td>4</td>\n",
       "      <td>0.047956</td>\n",
       "    </tr>\n",
       "    <tr>\n",
       "      <th>1056013</th>\n",
       "      <td>Bacteria</td>\n",
       "      <td>Proteobacteria</td>\n",
       "      <td>Gammaproteobacteria</td>\n",
       "      <td>NaN</td>\n",
       "      <td>NaN</td>\n",
       "      <td>other</td>\n",
       "      <td>5620690</td>\n",
       "      <td>Low</td>\n",
       "      <td>1</td>\n",
       "      <td>4</td>\n",
       "      <td>0.040903</td>\n",
       "    </tr>\n",
       "  </tbody>\n",
       "</table>\n",
       "</div>"
      ],
      "text/plain": [
       "           kingdom          phylum                class             order  \\\n",
       "sampleID                                                                    \n",
       "1056013   Bacteria  Proteobacteria  Gammaproteobacteria   Methylococcales   \n",
       "1056013   Bacteria  Proteobacteria   Betaproteobacteria   Methylophilales   \n",
       "1056013   Bacteria   Bacteroidetes       Flavobacteriia  Flavobacteriales   \n",
       "1056013   Bacteria  Proteobacteria  Gammaproteobacteria   Methylococcales   \n",
       "1056013   Bacteria  Proteobacteria  Gammaproteobacteria               NaN   \n",
       "\n",
       "                     family           genus   length oxygen  replicate  week  \\\n",
       "sampleID                                                                       \n",
       "1056013    Methylococcaceae   Methylobacter  9948861    Low          1     4   \n",
       "1056013    Methylophilaceae   Methylotenera  5066955    Low          1     4   \n",
       "1056013   Flavobacteriaceae  Flavobacterium  4654774    Low          1     4   \n",
       "1056013    Methylococcaceae           other  3046340    Low          1     4   \n",
       "1056013                 NaN           other  5620690    Low          1     4   \n",
       "\n",
       "          abundance  \n",
       "sampleID             \n",
       "1056013    0.228531  \n",
       "1056013    0.220860  \n",
       "1056013    0.054719  \n",
       "1056013    0.047956  \n",
       "1056013    0.040903  "
      ]
     },
     "execution_count": 4,
     "metadata": {},
     "output_type": "execute_result"
    }
   ],
   "source": [
    "loaded_data.head()"
   ]
  },
  {
   "cell_type": "markdown",
   "metadata": {},
   "source": [
    "Test filter and reduce functions using a high threshold, which selects for genus==Methylobacter"
   ]
  },
  {
   "cell_type": "code",
   "execution_count": 5,
   "metadata": {
    "collapsed": false
   },
   "outputs": [
    {
     "name": "stdout",
     "output_type": "stream",
     "text": [
      "first (up to) 5 phylo columns to keep: ['Methylobacter']\n"
     ]
    },
    {
     "data": {
      "text/html": [
       "<div>\n",
       "<table border=\"1\" class=\"dataframe\">\n",
       "  <thead>\n",
       "    <tr style=\"text-align: right;\">\n",
       "      <th></th>\n",
       "      <th>kingdom</th>\n",
       "      <th>phylum</th>\n",
       "      <th>class</th>\n",
       "      <th>order</th>\n",
       "      <th>family</th>\n",
       "      <th>genus</th>\n",
       "      <th>length</th>\n",
       "      <th>oxygen</th>\n",
       "      <th>replicate</th>\n",
       "      <th>week</th>\n",
       "      <th>abundance</th>\n",
       "    </tr>\n",
       "    <tr>\n",
       "      <th>sampleID</th>\n",
       "      <th></th>\n",
       "      <th></th>\n",
       "      <th></th>\n",
       "      <th></th>\n",
       "      <th></th>\n",
       "      <th></th>\n",
       "      <th></th>\n",
       "      <th></th>\n",
       "      <th></th>\n",
       "      <th></th>\n",
       "      <th></th>\n",
       "    </tr>\n",
       "  </thead>\n",
       "  <tbody>\n",
       "    <tr>\n",
       "      <th>1056013</th>\n",
       "      <td>Bacteria</td>\n",
       "      <td>Proteobacteria</td>\n",
       "      <td>Gammaproteobacteria</td>\n",
       "      <td>Methylococcales</td>\n",
       "      <td>Methylococcaceae</td>\n",
       "      <td>Methylobacter</td>\n",
       "      <td>9948861</td>\n",
       "      <td>Low</td>\n",
       "      <td>1</td>\n",
       "      <td>4</td>\n",
       "      <td>0.228531</td>\n",
       "    </tr>\n",
       "    <tr>\n",
       "      <th>1056016</th>\n",
       "      <td>Bacteria</td>\n",
       "      <td>Proteobacteria</td>\n",
       "      <td>Gammaproteobacteria</td>\n",
       "      <td>Methylococcales</td>\n",
       "      <td>Methylococcaceae</td>\n",
       "      <td>Methylobacter</td>\n",
       "      <td>8256230</td>\n",
       "      <td>Low</td>\n",
       "      <td>2</td>\n",
       "      <td>4</td>\n",
       "      <td>0.183486</td>\n",
       "    </tr>\n",
       "    <tr>\n",
       "      <th>1056019</th>\n",
       "      <td>Bacteria</td>\n",
       "      <td>Proteobacteria</td>\n",
       "      <td>Gammaproteobacteria</td>\n",
       "      <td>Methylococcales</td>\n",
       "      <td>Methylococcaceae</td>\n",
       "      <td>Methylobacter</td>\n",
       "      <td>9550864</td>\n",
       "      <td>Low</td>\n",
       "      <td>3</td>\n",
       "      <td>4</td>\n",
       "      <td>0.207635</td>\n",
       "    </tr>\n",
       "    <tr>\n",
       "      <th>1056022</th>\n",
       "      <td>Bacteria</td>\n",
       "      <td>Proteobacteria</td>\n",
       "      <td>Gammaproteobacteria</td>\n",
       "      <td>Methylococcales</td>\n",
       "      <td>Methylococcaceae</td>\n",
       "      <td>Methylobacter</td>\n",
       "      <td>8211298</td>\n",
       "      <td>Low</td>\n",
       "      <td>4</td>\n",
       "      <td>4</td>\n",
       "      <td>0.200109</td>\n",
       "    </tr>\n",
       "    <tr>\n",
       "      <th>1056025</th>\n",
       "      <td>Bacteria</td>\n",
       "      <td>Proteobacteria</td>\n",
       "      <td>Gammaproteobacteria</td>\n",
       "      <td>Methylococcales</td>\n",
       "      <td>Methylococcaceae</td>\n",
       "      <td>Methylobacter</td>\n",
       "      <td>4802092</td>\n",
       "      <td>High</td>\n",
       "      <td>1</td>\n",
       "      <td>4</td>\n",
       "      <td>0.070167</td>\n",
       "    </tr>\n",
       "  </tbody>\n",
       "</table>\n",
       "</div>"
      ],
      "text/plain": [
       "           kingdom          phylum                class            order  \\\n",
       "sampleID                                                                   \n",
       "1056013   Bacteria  Proteobacteria  Gammaproteobacteria  Methylococcales   \n",
       "1056016   Bacteria  Proteobacteria  Gammaproteobacteria  Methylococcales   \n",
       "1056019   Bacteria  Proteobacteria  Gammaproteobacteria  Methylococcales   \n",
       "1056022   Bacteria  Proteobacteria  Gammaproteobacteria  Methylococcales   \n",
       "1056025   Bacteria  Proteobacteria  Gammaproteobacteria  Methylococcales   \n",
       "\n",
       "                    family          genus   length oxygen  replicate  week  \\\n",
       "sampleID                                                                     \n",
       "1056013   Methylococcaceae  Methylobacter  9948861    Low          1     4   \n",
       "1056016   Methylococcaceae  Methylobacter  8256230    Low          2     4   \n",
       "1056019   Methylococcaceae  Methylobacter  9550864    Low          3     4   \n",
       "1056022   Methylococcaceae  Methylobacter  8211298    Low          4     4   \n",
       "1056025   Methylococcaceae  Methylobacter  4802092   High          1     4   \n",
       "\n",
       "          abundance  \n",
       "sampleID             \n",
       "1056013    0.228531  \n",
       "1056016    0.183486  \n",
       "1056019    0.207635  \n",
       "1056022    0.200109  \n",
       "1056025    0.070167  "
      ]
     },
     "execution_count": 5,
     "metadata": {},
     "output_type": "execute_result"
    }
   ],
   "source": [
    "bacteriopop_utils.filter_by_abundance(dataframe=loaded_data, low= 0.6).head()"
   ]
  },
  {
   "cell_type": "code",
   "execution_count": 6,
   "metadata": {
    "collapsed": false
   },
   "outputs": [
    {
     "name": "stdout",
     "output_type": "stream",
     "text": [
      "first (up to) 5 phylo columns to keep: ['Methylobacter']\n"
     ]
    },
    {
     "data": {
      "text/html": [
       "<div>\n",
       "<table border=\"1\" class=\"dataframe\">\n",
       "  <thead>\n",
       "    <tr style=\"text-align: right;\">\n",
       "      <th></th>\n",
       "      <th>kingdom</th>\n",
       "      <th>phylum</th>\n",
       "      <th>class</th>\n",
       "      <th>order</th>\n",
       "      <th>family</th>\n",
       "      <th>genus</th>\n",
       "      <th>length</th>\n",
       "      <th>oxygen</th>\n",
       "      <th>replicate</th>\n",
       "      <th>week</th>\n",
       "      <th>abundance</th>\n",
       "    </tr>\n",
       "    <tr>\n",
       "      <th>sampleID</th>\n",
       "      <th></th>\n",
       "      <th></th>\n",
       "      <th></th>\n",
       "      <th></th>\n",
       "      <th></th>\n",
       "      <th></th>\n",
       "      <th></th>\n",
       "      <th></th>\n",
       "      <th></th>\n",
       "      <th></th>\n",
       "      <th></th>\n",
       "    </tr>\n",
       "  </thead>\n",
       "  <tbody>\n",
       "    <tr>\n",
       "      <th>1056025</th>\n",
       "      <td>Bacteria</td>\n",
       "      <td>Proteobacteria</td>\n",
       "      <td>Gammaproteobacteria</td>\n",
       "      <td>Methylococcales</td>\n",
       "      <td>Methylococcaceae</td>\n",
       "      <td>Methylobacter</td>\n",
       "      <td>4802092</td>\n",
       "      <td>High</td>\n",
       "      <td>1</td>\n",
       "      <td>4</td>\n",
       "      <td>0.070167</td>\n",
       "    </tr>\n",
       "    <tr>\n",
       "      <th>1056028</th>\n",
       "      <td>Bacteria</td>\n",
       "      <td>Proteobacteria</td>\n",
       "      <td>Gammaproteobacteria</td>\n",
       "      <td>Methylococcales</td>\n",
       "      <td>Methylococcaceae</td>\n",
       "      <td>Methylobacter</td>\n",
       "      <td>3885957</td>\n",
       "      <td>High</td>\n",
       "      <td>2</td>\n",
       "      <td>4</td>\n",
       "      <td>0.084614</td>\n",
       "    </tr>\n",
       "    <tr>\n",
       "      <th>1056031</th>\n",
       "      <td>Bacteria</td>\n",
       "      <td>Proteobacteria</td>\n",
       "      <td>Gammaproteobacteria</td>\n",
       "      <td>Methylococcales</td>\n",
       "      <td>Methylococcaceae</td>\n",
       "      <td>Methylobacter</td>\n",
       "      <td>5692971</td>\n",
       "      <td>High</td>\n",
       "      <td>3</td>\n",
       "      <td>4</td>\n",
       "      <td>0.075084</td>\n",
       "    </tr>\n",
       "    <tr>\n",
       "      <th>1056034</th>\n",
       "      <td>Bacteria</td>\n",
       "      <td>Proteobacteria</td>\n",
       "      <td>Gammaproteobacteria</td>\n",
       "      <td>Methylococcales</td>\n",
       "      <td>Methylococcaceae</td>\n",
       "      <td>Methylobacter</td>\n",
       "      <td>4933896</td>\n",
       "      <td>High</td>\n",
       "      <td>4</td>\n",
       "      <td>4</td>\n",
       "      <td>0.103972</td>\n",
       "    </tr>\n",
       "    <tr>\n",
       "      <th>1056049</th>\n",
       "      <td>Bacteria</td>\n",
       "      <td>Proteobacteria</td>\n",
       "      <td>Gammaproteobacteria</td>\n",
       "      <td>Methylococcales</td>\n",
       "      <td>Methylococcaceae</td>\n",
       "      <td>Methylobacter</td>\n",
       "      <td>7618692</td>\n",
       "      <td>High</td>\n",
       "      <td>1</td>\n",
       "      <td>5</td>\n",
       "      <td>0.242867</td>\n",
       "    </tr>\n",
       "  </tbody>\n",
       "</table>\n",
       "</div>"
      ],
      "text/plain": [
       "           kingdom          phylum                class            order  \\\n",
       "sampleID                                                                   \n",
       "1056025   Bacteria  Proteobacteria  Gammaproteobacteria  Methylococcales   \n",
       "1056028   Bacteria  Proteobacteria  Gammaproteobacteria  Methylococcales   \n",
       "1056031   Bacteria  Proteobacteria  Gammaproteobacteria  Methylococcales   \n",
       "1056034   Bacteria  Proteobacteria  Gammaproteobacteria  Methylococcales   \n",
       "1056049   Bacteria  Proteobacteria  Gammaproteobacteria  Methylococcales   \n",
       "\n",
       "                    family          genus   length oxygen  replicate  week  \\\n",
       "sampleID                                                                     \n",
       "1056025   Methylococcaceae  Methylobacter  4802092   High          1     4   \n",
       "1056028   Methylococcaceae  Methylobacter  3885957   High          2     4   \n",
       "1056031   Methylococcaceae  Methylobacter  5692971   High          3     4   \n",
       "1056034   Methylococcaceae  Methylobacter  4933896   High          4     4   \n",
       "1056049   Methylococcaceae  Methylobacter  7618692   High          1     5   \n",
       "\n",
       "          abundance  \n",
       "sampleID             \n",
       "1056025    0.070167  \n",
       "1056028    0.084614  \n",
       "1056031    0.075084  \n",
       "1056034    0.103972  \n",
       "1056049    0.242867  "
      ]
     },
     "execution_count": 6,
     "metadata": {},
     "output_type": "execute_result"
    }
   ],
   "source": [
    "bacteriopop_utils.reduce_data(dataframe=loaded_data, min_abundance= 0.6, \n",
    "                              phylo_column='genus', oxygen='high').head()"
   ]
  },
  {
   "cell_type": "markdown",
   "metadata": {},
   "source": [
    "# Demo of DMD data prep"
   ]
  },
  {
   "cell_type": "code",
   "execution_count": 7,
   "metadata": {
    "collapsed": false
   },
   "outputs": [
    {
     "name": "stdout",
     "output_type": "stream",
     "text": [
      "first (up to) 5 phylo columns to keep: ['Methylobacter' 'Methylotenera' 'Flavobacterium']\n"
     ]
    }
   ],
   "source": [
    "raw_dmd_data = bacteriopop_utils.reduce_data(dataframe=loaded_data, min_abundance= 0.1, \n",
    "                              phylo_column='genus', oxygen='Low')"
   ]
  },
  {
   "cell_type": "markdown",
   "metadata": {},
   "source": [
    "Errors are thrown by functions below if you drop min_abunance below.  I think it is hanging up on multiple \"other\" rows."
   ]
  },
  {
   "cell_type": "code",
   "execution_count": 8,
   "metadata": {
    "collapsed": false
   },
   "outputs": [
    {
     "name": "stdout",
     "output_type": "stream",
     "text": [
      "('Low', 1)\n",
      "('Low', 2)\n",
      "('Low', 3)\n",
      "('Low', 4)\n",
      "dictionary keys: [('Low', 1), ('Low', 4), ('Low', 2), ('Low', 3)]\n"
     ]
    }
   ],
   "source": [
    "data_dict = bacteriopop_utils.break_apart_experiments(raw_dmd_data)"
   ]
  },
  {
   "cell_type": "code",
   "execution_count": 9,
   "metadata": {
    "collapsed": false
   },
   "outputs": [
    {
     "data": {
      "text/plain": [
       "[('Low', 1), ('Low', 4), ('Low', 2), ('Low', 3)]"
      ]
     },
     "execution_count": 9,
     "metadata": {},
     "output_type": "execute_result"
    }
   ],
   "source": [
    "data_dict.keys()"
   ]
  },
  {
   "cell_type": "code",
   "execution_count": 10,
   "metadata": {
    "collapsed": false
   },
   "outputs": [
    {
     "data": {
      "text/plain": [
       "<dictionary-valueiterator at 0x10c71aaf8>"
      ]
     },
     "execution_count": 10,
     "metadata": {},
     "output_type": "execute_result"
    }
   ],
   "source": [
    "# Can't view generators very easily!!!\n",
    "data_dict.itervalues()"
   ]
  },
  {
   "cell_type": "code",
   "execution_count": 11,
   "metadata": {
    "collapsed": false
   },
   "outputs": [],
   "source": [
    "# But we can make a list from them and grab the 0th item\n",
    "first_df = list(data_dict.itervalues())[0]"
   ]
  },
  {
   "cell_type": "code",
   "execution_count": 12,
   "metadata": {
    "collapsed": false
   },
   "outputs": [
    {
     "data": {
      "text/html": [
       "<div>\n",
       "<table border=\"1\" class=\"dataframe\">\n",
       "  <thead>\n",
       "    <tr style=\"text-align: right;\">\n",
       "      <th></th>\n",
       "      <th>kingdom</th>\n",
       "      <th>phylum</th>\n",
       "      <th>class</th>\n",
       "      <th>order</th>\n",
       "      <th>family</th>\n",
       "      <th>genus</th>\n",
       "      <th>length</th>\n",
       "      <th>oxygen</th>\n",
       "      <th>replicate</th>\n",
       "      <th>week</th>\n",
       "      <th>abundance</th>\n",
       "    </tr>\n",
       "    <tr>\n",
       "      <th>sampleID</th>\n",
       "      <th></th>\n",
       "      <th></th>\n",
       "      <th></th>\n",
       "      <th></th>\n",
       "      <th></th>\n",
       "      <th></th>\n",
       "      <th></th>\n",
       "      <th></th>\n",
       "      <th></th>\n",
       "      <th></th>\n",
       "      <th></th>\n",
       "    </tr>\n",
       "  </thead>\n",
       "  <tbody>\n",
       "    <tr>\n",
       "      <th>1056013</th>\n",
       "      <td>Bacteria</td>\n",
       "      <td>Proteobacteria</td>\n",
       "      <td>Gammaproteobacteria</td>\n",
       "      <td>Methylococcales</td>\n",
       "      <td>Methylococcaceae</td>\n",
       "      <td>Methylobacter</td>\n",
       "      <td>9948861</td>\n",
       "      <td>Low</td>\n",
       "      <td>1</td>\n",
       "      <td>4</td>\n",
       "      <td>0.228531</td>\n",
       "    </tr>\n",
       "    <tr>\n",
       "      <th>1056013</th>\n",
       "      <td>Bacteria</td>\n",
       "      <td>Proteobacteria</td>\n",
       "      <td>Betaproteobacteria</td>\n",
       "      <td>Methylophilales</td>\n",
       "      <td>Methylophilaceae</td>\n",
       "      <td>Methylotenera</td>\n",
       "      <td>5066955</td>\n",
       "      <td>Low</td>\n",
       "      <td>1</td>\n",
       "      <td>4</td>\n",
       "      <td>0.220860</td>\n",
       "    </tr>\n",
       "    <tr>\n",
       "      <th>1056013</th>\n",
       "      <td>Bacteria</td>\n",
       "      <td>Bacteroidetes</td>\n",
       "      <td>Flavobacteriia</td>\n",
       "      <td>Flavobacteriales</td>\n",
       "      <td>Flavobacteriaceae</td>\n",
       "      <td>Flavobacterium</td>\n",
       "      <td>4654774</td>\n",
       "      <td>Low</td>\n",
       "      <td>1</td>\n",
       "      <td>4</td>\n",
       "      <td>0.054719</td>\n",
       "    </tr>\n",
       "  </tbody>\n",
       "</table>\n",
       "</div>"
      ],
      "text/plain": [
       "           kingdom          phylum                class             order  \\\n",
       "sampleID                                                                    \n",
       "1056013   Bacteria  Proteobacteria  Gammaproteobacteria   Methylococcales   \n",
       "1056013   Bacteria  Proteobacteria   Betaproteobacteria   Methylophilales   \n",
       "1056013   Bacteria   Bacteroidetes       Flavobacteriia  Flavobacteriales   \n",
       "\n",
       "                     family           genus   length oxygen  replicate  week  \\\n",
       "sampleID                                                                       \n",
       "1056013    Methylococcaceae   Methylobacter  9948861    Low          1     4   \n",
       "1056013    Methylophilaceae   Methylotenera  5066955    Low          1     4   \n",
       "1056013   Flavobacteriaceae  Flavobacterium  4654774    Low          1     4   \n",
       "\n",
       "          abundance  \n",
       "sampleID             \n",
       "1056013    0.228531  \n",
       "1056013    0.220860  \n",
       "1056013    0.054719  "
      ]
     },
     "execution_count": 12,
     "metadata": {},
     "output_type": "execute_result"
    }
   ],
   "source": [
    "first_df.head(3)"
   ]
  },
  {
   "cell_type": "code",
   "execution_count": 13,
   "metadata": {
    "collapsed": false
   },
   "outputs": [
    {
     "data": {
      "text/html": [
       "<div>\n",
       "<table border=\"1\" class=\"dataframe\">\n",
       "  <thead>\n",
       "    <tr style=\"text-align: right;\">\n",
       "      <th>week</th>\n",
       "      <th>4</th>\n",
       "      <th>5</th>\n",
       "      <th>6</th>\n",
       "      <th>7</th>\n",
       "      <th>8</th>\n",
       "      <th>9</th>\n",
       "      <th>10</th>\n",
       "      <th>11</th>\n",
       "      <th>12</th>\n",
       "      <th>13</th>\n",
       "      <th>14</th>\n",
       "    </tr>\n",
       "    <tr>\n",
       "      <th>genus</th>\n",
       "      <th></th>\n",
       "      <th></th>\n",
       "      <th></th>\n",
       "      <th></th>\n",
       "      <th></th>\n",
       "      <th></th>\n",
       "      <th></th>\n",
       "      <th></th>\n",
       "      <th></th>\n",
       "      <th></th>\n",
       "      <th></th>\n",
       "    </tr>\n",
       "  </thead>\n",
       "  <tbody>\n",
       "    <tr>\n",
       "      <th>Flavobacterium</th>\n",
       "      <td>0.054719</td>\n",
       "      <td>0.052710</td>\n",
       "      <td>0.009651</td>\n",
       "      <td>0.000718</td>\n",
       "      <td>0.003886</td>\n",
       "      <td>0.004191</td>\n",
       "      <td>0.003909</td>\n",
       "      <td>0.027589</td>\n",
       "      <td>0.009506</td>\n",
       "      <td>0.000864</td>\n",
       "      <td>0.003408</td>\n",
       "    </tr>\n",
       "    <tr>\n",
       "      <th>Methylobacter</th>\n",
       "      <td>0.228531</td>\n",
       "      <td>0.337567</td>\n",
       "      <td>0.602610</td>\n",
       "      <td>0.582960</td>\n",
       "      <td>0.577079</td>\n",
       "      <td>0.373659</td>\n",
       "      <td>0.576840</td>\n",
       "      <td>0.520927</td>\n",
       "      <td>0.496885</td>\n",
       "      <td>0.524244</td>\n",
       "      <td>0.443803</td>\n",
       "    </tr>\n",
       "    <tr>\n",
       "      <th>Methylotenera</th>\n",
       "      <td>0.220860</td>\n",
       "      <td>0.131572</td>\n",
       "      <td>0.064071</td>\n",
       "      <td>0.125043</td>\n",
       "      <td>0.170347</td>\n",
       "      <td>0.373464</td>\n",
       "      <td>0.150743</td>\n",
       "      <td>0.004887</td>\n",
       "      <td>0.079913</td>\n",
       "      <td>0.110765</td>\n",
       "      <td>0.195370</td>\n",
       "    </tr>\n",
       "  </tbody>\n",
       "</table>\n",
       "</div>"
      ],
      "text/plain": [
       "week                  4         5         6         7         8         9   \\\n",
       "genus                                                                        \n",
       "Flavobacterium  0.054719  0.052710  0.009651  0.000718  0.003886  0.004191   \n",
       "Methylobacter   0.228531  0.337567  0.602610  0.582960  0.577079  0.373659   \n",
       "Methylotenera   0.220860  0.131572  0.064071  0.125043  0.170347  0.373464   \n",
       "\n",
       "week                  10        11        12        13        14  \n",
       "genus                                                             \n",
       "Flavobacterium  0.003909  0.027589  0.009506  0.000864  0.003408  \n",
       "Methylobacter   0.576840  0.520927  0.496885  0.524244  0.443803  \n",
       "Methylotenera   0.150743  0.004887  0.079913  0.110765  0.195370  "
      ]
     },
     "execution_count": 13,
     "metadata": {},
     "output_type": "execute_result"
    }
   ],
   "source": [
    "first_df.pivot(index='genus', columns='week', values='abundance')"
   ]
  },
  {
   "cell_type": "code",
   "execution_count": 14,
   "metadata": {
    "collapsed": false
   },
   "outputs": [
    {
     "name": "stdout",
     "output_type": "stream",
     "text": [
      "('Low', 1)\n",
      "('Low', 2)\n",
      "('Low', 3)\n",
      "('Low', 4)\n",
      "dictionary keys: [('Low', 1), ('Low', 4), ('Low', 2), ('Low', 3)]\n",
      "week                  4         5         6         7         8         9   \\\n",
      "genus                                                                        \n",
      "Flavobacterium  0.054719  0.052710  0.009651  0.000718  0.003886  0.004191   \n",
      "Methylobacter   0.228531  0.337567  0.602610  0.582960  0.577079  0.373659   \n",
      "\n",
      "week                  10        11        12        13        14  \n",
      "genus                                                             \n",
      "Flavobacterium  0.003909  0.027589  0.009506  0.000864  0.003408  \n",
      "Methylobacter   0.576840  0.520927  0.496885  0.524244  0.443803  \n",
      "week                  4         5         6         7         8         9   \\\n",
      "genus                                                                        \n",
      "Flavobacterium  0.108520  0.049753  0.009734  0.000271  0.001793  0.000671   \n",
      "Methylobacter   0.200109  0.277112  0.484794  0.668513  0.510509  0.467184   \n",
      "\n",
      "week                  10        11        12        13        14  \n",
      "genus                                                             \n",
      "Flavobacterium  0.000602  0.010867  0.006316  0.004239  0.001783  \n",
      "Methylobacter   0.701577  0.521862  0.616827  0.593887  0.584158  \n",
      "week                  4         5         6         7         8         9   \\\n",
      "genus                                                                        \n",
      "Flavobacterium  0.105932  0.057338  0.002315  0.000752  0.000508  0.001986   \n",
      "Methylobacter   0.183486  0.284730  0.542438  0.558329  0.596317  0.356089   \n",
      "\n",
      "week                  10        11        12        13        14  \n",
      "genus                                                             \n",
      "Flavobacterium  0.002535  0.024012  0.005938  0.001763  0.002797  \n",
      "Methylobacter   0.597375  0.538083  0.544018  0.587177  0.450268  \n",
      "week                  4         5         6         7         8         9   \\\n",
      "genus                                                                        \n",
      "Flavobacterium  0.071783  0.067557  0.008394  0.006802  0.004077  0.004601   \n",
      "Methylobacter   0.207635  0.289742  0.543662  0.675365  0.731635  0.776681   \n",
      "\n",
      "week                  10        11        12        13        14  \n",
      "genus                                                             \n",
      "Flavobacterium  0.004465  0.000157  0.000874  0.001071  0.001146  \n",
      "Methylobacter   0.735229  0.710751  0.672948  0.701402  0.691672  \n"
     ]
    }
   ],
   "source": [
    "DMD_input_dict = bacteriopop_utils.prepare_DMD_matrices(raw_dmd_data, \n",
    "                                                        groupby_level = \"Genus\")"
   ]
  },
  {
   "cell_type": "code",
   "execution_count": 15,
   "metadata": {
    "collapsed": false
   },
   "outputs": [
    {
     "data": {
      "text/plain": [
       "dict"
      ]
     },
     "execution_count": 15,
     "metadata": {},
     "output_type": "execute_result"
    }
   ],
   "source": [
    "type(DMD_input_dict)"
   ]
  },
  {
   "cell_type": "markdown",
   "metadata": {},
   "source": [
    "We can get each dataframe out like this:"
   ]
  },
  {
   "cell_type": "code",
   "execution_count": 16,
   "metadata": {
    "collapsed": false
   },
   "outputs": [
    {
     "data": {
      "text/html": [
       "<div>\n",
       "<table border=\"1\" class=\"dataframe\">\n",
       "  <thead>\n",
       "    <tr style=\"text-align: right;\">\n",
       "      <th>week</th>\n",
       "      <th>4</th>\n",
       "      <th>5</th>\n",
       "      <th>6</th>\n",
       "      <th>7</th>\n",
       "      <th>8</th>\n",
       "      <th>9</th>\n",
       "      <th>10</th>\n",
       "      <th>11</th>\n",
       "      <th>12</th>\n",
       "      <th>13</th>\n",
       "      <th>14</th>\n",
       "    </tr>\n",
       "    <tr>\n",
       "      <th>genus</th>\n",
       "      <th></th>\n",
       "      <th></th>\n",
       "      <th></th>\n",
       "      <th></th>\n",
       "      <th></th>\n",
       "      <th></th>\n",
       "      <th></th>\n",
       "      <th></th>\n",
       "      <th></th>\n",
       "      <th></th>\n",
       "      <th></th>\n",
       "    </tr>\n",
       "  </thead>\n",
       "  <tbody>\n",
       "    <tr>\n",
       "      <th>Flavobacterium</th>\n",
       "      <td>0.054719</td>\n",
       "      <td>0.052710</td>\n",
       "      <td>0.009651</td>\n",
       "      <td>0.000718</td>\n",
       "      <td>0.003886</td>\n",
       "      <td>0.004191</td>\n",
       "      <td>0.003909</td>\n",
       "      <td>0.027589</td>\n",
       "      <td>0.009506</td>\n",
       "      <td>0.000864</td>\n",
       "      <td>0.003408</td>\n",
       "    </tr>\n",
       "    <tr>\n",
       "      <th>Methylobacter</th>\n",
       "      <td>0.228531</td>\n",
       "      <td>0.337567</td>\n",
       "      <td>0.602610</td>\n",
       "      <td>0.582960</td>\n",
       "      <td>0.577079</td>\n",
       "      <td>0.373659</td>\n",
       "      <td>0.576840</td>\n",
       "      <td>0.520927</td>\n",
       "      <td>0.496885</td>\n",
       "      <td>0.524244</td>\n",
       "      <td>0.443803</td>\n",
       "    </tr>\n",
       "    <tr>\n",
       "      <th>Methylotenera</th>\n",
       "      <td>0.220860</td>\n",
       "      <td>0.131572</td>\n",
       "      <td>0.064071</td>\n",
       "      <td>0.125043</td>\n",
       "      <td>0.170347</td>\n",
       "      <td>0.373464</td>\n",
       "      <td>0.150743</td>\n",
       "      <td>0.004887</td>\n",
       "      <td>0.079913</td>\n",
       "      <td>0.110765</td>\n",
       "      <td>0.195370</td>\n",
       "    </tr>\n",
       "  </tbody>\n",
       "</table>\n",
       "</div>"
      ],
      "text/plain": [
       "week                  4         5         6         7         8         9   \\\n",
       "genus                                                                        \n",
       "Flavobacterium  0.054719  0.052710  0.009651  0.000718  0.003886  0.004191   \n",
       "Methylobacter   0.228531  0.337567  0.602610  0.582960  0.577079  0.373659   \n",
       "Methylotenera   0.220860  0.131572  0.064071  0.125043  0.170347  0.373464   \n",
       "\n",
       "week                  10        11        12        13        14  \n",
       "genus                                                             \n",
       "Flavobacterium  0.003909  0.027589  0.009506  0.000864  0.003408  \n",
       "Methylobacter   0.576840  0.520927  0.496885  0.524244  0.443803  \n",
       "Methylotenera   0.150743  0.004887  0.079913  0.110765  0.195370  "
      ]
     },
     "execution_count": 16,
     "metadata": {},
     "output_type": "execute_result"
    }
   ],
   "source": [
    "DMD_input_dict[('Low', 1)]"
   ]
  },
  {
   "cell_type": "markdown",
   "metadata": {},
   "source": [
    "# DMD"
   ]
  },
  {
   "cell_type": "markdown",
   "metadata": {},
   "source": [
    "TODO: test DMD on this abundance marix. "
   ]
  },
  {
   "cell_type": "code",
   "execution_count": 17,
   "metadata": {
    "collapsed": true
   },
   "outputs": [],
   "source": [
    "DMD_test_matrix = DMD_input_dict[('Low', 1)]"
   ]
  },
  {
   "cell_type": "code",
   "execution_count": 18,
   "metadata": {
    "collapsed": true
   },
   "outputs": [],
   "source": [
    "# Who is in there? "
   ]
  },
  {
   "cell_type": "code",
   "execution_count": 19,
   "metadata": {
    "collapsed": false
   },
   "outputs": [
    {
     "data": {
      "text/plain": [
       "array(['Flavobacterium', 'Methylobacter', 'Methylotenera'], dtype=object)"
      ]
     },
     "execution_count": 19,
     "metadata": {},
     "output_type": "execute_result"
    }
   ],
   "source": [
    "DMD_test_matrix.reset_index()['genus'].unique()"
   ]
  },
  {
   "cell_type": "markdown",
   "metadata": {},
   "source": [
    "I'm stuck at the installation of modred :("
   ]
  },
  {
   "cell_type": "code",
   "execution_count": 20,
   "metadata": {
    "collapsed": false
   },
   "outputs": [
    {
     "ename": "ImportError",
     "evalue": "No module named modred",
     "output_type": "error",
     "traceback": [
      "\u001b[0;31m---------------------------------------------------------------------------\u001b[0m",
      "\u001b[0;31mImportError\u001b[0m                               Traceback (most recent call last)",
      "\u001b[0;32m<ipython-input-20-04eff78feb73>\u001b[0m in \u001b[0;36m<module>\u001b[0;34m()\u001b[0m\n\u001b[1;32m      1\u001b[0m \u001b[0;31m# following example 1: https://pythonhosted.org/modred/tutorial_modaldecomp.html\u001b[0m\u001b[0;34m\u001b[0m\u001b[0;34m\u001b[0m\u001b[0m\n\u001b[0;32m----> 2\u001b[0;31m \u001b[0;32mimport\u001b[0m \u001b[0mmodred\u001b[0m \u001b[0;32mas\u001b[0m \u001b[0mMR\u001b[0m\u001b[0;34m\u001b[0m\u001b[0m\n\u001b[0m",
      "\u001b[0;31mImportError\u001b[0m: No module named modred"
     ]
    }
   ],
   "source": [
    "# following example 1: https://pythonhosted.org/modred/tutorial_modaldecomp.html\n",
    "import modred as MR"
   ]
  },
  {
   "cell_type": "code",
   "execution_count": null,
   "metadata": {
    "collapsed": true
   },
   "outputs": [],
   "source": [
    "\n",
    "num_modes = 5\n",
    "modes, eig_vals = MR.compute_POD_matrices_snaps_method(DMD_test_matrix, range(num_modes))"
   ]
  },
  {
   "cell_type": "markdown",
   "metadata": {},
   "source": [
    "# Feature extraction and PCA"
   ]
  },
  {
   "cell_type": "code",
   "execution_count": null,
   "metadata": {
    "collapsed": false
   },
   "outputs": [],
   "source": [
    "extracted_features = bacteriopop_utils.extract_features(\n",
    "    dataframe = loaded_data,\n",
    "    column_list = ['kingdom', 'phylum', 'class', 'order', 'family', 'genus', 'oxygen', 'abundance']\n",
    "    # default list was: ['kingdom', 'phylum', 'class', 'order', 'family', 'genus', 'length', 'abundance', 'project']\n",
    "    )"
   ]
  },
  {
   "cell_type": "code",
   "execution_count": null,
   "metadata": {
    "collapsed": false
   },
   "outputs": [],
   "source": [
    "extracted_features.head()"
   ]
  },
  {
   "cell_type": "code",
   "execution_count": null,
   "metadata": {
    "collapsed": false
   },
   "outputs": [],
   "source": [
    "extracted_features.shape"
   ]
  },
  {
   "cell_type": "markdown",
   "metadata": {},
   "source": [
    "Just do PCA on a tiny bit of the data as a demo"
   ]
  },
  {
   "cell_type": "code",
   "execution_count": null,
   "metadata": {
    "collapsed": false
   },
   "outputs": [],
   "source": [
    "pca_results = feature_selection_utils.pca_bacteria(\n",
    "    data = extracted_features.head(100), n_components = 10)"
   ]
  },
  {
   "cell_type": "code",
   "execution_count": null,
   "metadata": {
    "collapsed": false
   },
   "outputs": [],
   "source": [
    "pca_results.components_"
   ]
  },
  {
   "cell_type": "markdown",
   "metadata": {},
   "source": [
    "Do correlations for a tiny subset of the data."
   ]
  },
  {
   "cell_type": "code",
   "execution_count": null,
   "metadata": {
    "collapsed": false
   },
   "outputs": [],
   "source": [
    "feature_selection_utils.calculate_features_target_correlation(\n",
    "    data = extracted_features.head(100),\n",
    "    features = extracted_features.columns.tolist(),\n",
    "    target='abundance',\n",
    "    method=\"Pearson\")"
   ]
  },
  {
   "cell_type": "code",
   "execution_count": null,
   "metadata": {
    "collapsed": true
   },
   "outputs": [],
   "source": []
  },
  {
   "cell_type": "code",
   "execution_count": null,
   "metadata": {
    "collapsed": true
   },
   "outputs": [],
   "source": []
  }
 ],
 "metadata": {
  "kernelspec": {
   "display_name": "Python 2",
   "language": "python",
   "name": "python2"
  },
  "language_info": {
   "codemirror_mode": {
    "name": "ipython",
    "version": 2
   },
   "file_extension": ".py",
   "mimetype": "text/x-python",
   "name": "python",
   "nbconvert_exporter": "python",
   "pygments_lexer": "ipython2",
   "version": "2.7.5"
  }
 },
 "nbformat": 4,
 "nbformat_minor": 0
}
