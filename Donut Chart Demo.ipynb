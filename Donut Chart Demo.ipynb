{
 "cells": [
  {
   "cell_type": "code",
   "execution_count": 1,
   "metadata": {
    "collapsed": true
   },
   "outputs": [],
   "source": [
    "from Donut_chart import disply_chart"
   ]
  },
  {
   "cell_type": "code",
   "execution_count": 6,
   "metadata": {
    "collapsed": false
   },
   "outputs": [
    {
     "name": "stdout",
     "output_type": "stream",
     "text": [
      "columns after aggregating on phylo level: Index([u'oxygen', u'replicate', u'week', u'kingdom', u'phylum', u'class',\n",
      "       u'order', u'family', u'genus', u'abundance'],\n",
      "      dtype='object')\n",
      "first (up to) 5 phylo columns to \n",
      "keep: ['' 'Flavobacterium' 'Acidovorax' 'Methylotenera' 'Bacteriovorax']\n"
     ]
    }
   ],
   "source": [
    "disply_chart('High',4,1)"
   ]
  },
  {
   "cell_type": "code",
   "execution_count": 3,
   "metadata": {
    "collapsed": false
   },
   "outputs": [
    {
     "name": "stdout",
     "output_type": "stream",
     "text": [
      "columns after aggregating on phylo level: Index([u'oxygen', u'replicate', u'week', u'kingdom', u'phylum', u'class',\n",
      "       u'order', u'family', u'genus', u'abundance'],\n",
      "      dtype='object')\n",
      "first (up to) 5 phylo columns to \n",
      "keep: ['' 'Flavobacterium' 'Acidovorax' 'Methylotenera' 'Dechloromonas']\n"
     ]
    }
   ],
   "source": [
    "disply_chart('Low',4,1)"
   ]
  },
  {
   "cell_type": "code",
   "execution_count": 4,
   "metadata": {
    "collapsed": false
   },
   "outputs": [
    {
     "name": "stdout",
     "output_type": "stream",
     "text": [
      "columns after aggregating on phylo level: Index([u'oxygen', u'replicate', u'week', u'kingdom', u'phylum', u'class',\n",
      "       u'order', u'family', u'genus', u'abundance'],\n",
      "      dtype='object')\n",
      "first (up to) 5 phylo columns to \n",
      "keep: ['' 'Methylotenera' 'Methylobacter']\n"
     ]
    }
   ],
   "source": [
    "disply_chart('Low',14,1)"
   ]
  },
  {
   "cell_type": "code",
   "execution_count": 5,
   "metadata": {
    "collapsed": false
   },
   "outputs": [
    {
     "name": "stdout",
     "output_type": "stream",
     "text": [
      "columns after aggregating on phylo level: Index([u'oxygen', u'replicate', u'week', u'kingdom', u'phylum', u'class',\n",
      "       u'order', u'family', u'genus', u'abundance'],\n",
      "      dtype='object')\n",
      "first (up to) 5 phylo columns to \n",
      "keep: ['Methylotenera' 'Methylobacter' '']\n"
     ]
    }
   ],
   "source": [
    "disply_chart('Low',14,4)"
   ]
  },
  {
   "cell_type": "code",
   "execution_count": null,
   "metadata": {
    "collapsed": true
   },
   "outputs": [],
   "source": []
  }
 ],
 "metadata": {
  "kernelspec": {
   "display_name": "Python 2",
   "language": "python",
   "name": "python2"
  },
  "language_info": {
   "codemirror_mode": {
    "name": "ipython",
    "version": 2
   },
   "file_extension": ".py",
   "mimetype": "text/x-python",
   "name": "python",
   "nbconvert_exporter": "python",
   "pygments_lexer": "ipython2",
   "version": "2.7.11"
  }
 },
 "nbformat": 4,
 "nbformat_minor": 0
}
