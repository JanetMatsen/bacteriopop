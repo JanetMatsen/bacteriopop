{
 "cells": [
  {
   "cell_type": "code",
   "execution_count": 1,
   "metadata": {
    "collapsed": true
   },
   "outputs": [],
   "source": [
    "import bacteriopop_utils\n",
    "import feature_selection_utils\n",
    "import load_data\n",
    "import dynamic_mode_decomposition as dmd\n",
    "import network_construction as net\n",
    "import matplotlib.pyplot as plt\n",
    "import seaborn as sns\n",
    "%matplotlib inline"
   ]
  },
  {
   "cell_type": "code",
   "execution_count": 2,
   "metadata": {
    "collapsed": true
   },
   "outputs": [],
   "source": [
    "import os\n",
    "import matplotlib as mpl"
   ]
  },
  {
   "cell_type": "code",
   "execution_count": 3,
   "metadata": {
    "collapsed": false
   },
   "outputs": [],
   "source": [
    "mpl.rcParams.update({\n",
    "    'font.size': 18, 'axes.titlesize': 20, 'axes.labelsize': 15,\n",
    "    'xtick.labelsize': 15, 'ytick.labelsize': 15,\n",
    "    #'font.family': 'Lato',  # I don't have this font family\n",
    "        'font.weight': 600,\n",
    "    'axes.labelweight': 600, 'axes.titleweight': 600,\n",
    "    #'figure.autolayout': True  # screws up layout for seaborn facetgrid objects. \n",
    "    })"
   ]
  },
  {
   "cell_type": "code",
   "execution_count": 4,
   "metadata": {
    "collapsed": true
   },
   "outputs": [],
   "source": [
    "#Calculation parameters:\n",
    "p = 1  # percent abundance to consider significant. \n",
    "adjacency_magnitude = 1.5 # signal to trim by before plotting"
   ]
  },
  {
   "cell_type": "code",
   "execution_count": 5,
   "metadata": {
    "collapsed": false
   },
   "outputs": [
    {
     "name": "stdout",
     "output_type": "stream",
     "text": [
      "all groups of oxygen/week/replicate have abundances that sum to 1\n",
      "columns after aggregating on phylo level: Index([u'oxygen', u'replicate', u'week', u'kingdom', u'phylum', u'class',\n",
      "       u'order', u'abundance'],\n",
      "      dtype='object')\n",
      "first (up to) 5 phylo columns to \n",
      "keep: ['' 'Acidilobales' 'Desulfurococcales' 'Sulfolobales' 'Thermoproteales']\n",
      "('High', 1)\n",
      "('High', 2)\n",
      "('High', 3)\n",
      "('High', 4)\n",
      "('Low', 1)\n",
      "('Low', 2)\n",
      "('Low', 3)\n",
      "('Low', 4)\n",
      "dictionary keys: [('High', 4), ('Low', 1), ('High', 3), ('Low', 2), ('High', 2), ('Low', 3), ('High', 1), ('Low', 4)]\n",
      "dataframe_dict.keys(): [('High', 4), ('Low', 1), ('High', 3), ('Low', 2), ('High', 2), ('Low', 3), ('High', 1), ('Low', 4)]\n",
      "week                                                      4         5   \\\n",
      "phylo_concat                                                             \n",
      "Archaea                                             0.000000  0.000018   \n",
      "Archaea, Crenarchaeota                              0.000000  0.000008   \n",
      "Archaea, Crenarchaeota, Thermoprotei                0.000000  0.000007   \n",
      "Archaea, Crenarchaeota, Thermoprotei, Acidilobales  0.000005  0.000017   \n",
      "Archaea, Crenarchaeota, Thermoprotei, Desulfuro...  0.000005  0.000034   \n",
      "\n",
      "week                                                      6         7   \\\n",
      "phylo_concat                                                             \n",
      "Archaea                                             0.000004  0.000000   \n",
      "Archaea, Crenarchaeota                              0.000000  0.000002   \n",
      "Archaea, Crenarchaeota, Thermoprotei                0.000000  0.000000   \n",
      "Archaea, Crenarchaeota, Thermoprotei, Acidilobales  0.000003  0.000000   \n",
      "Archaea, Crenarchaeota, Thermoprotei, Desulfuro...  0.000000  0.000003   \n",
      "\n",
      "week                                                      8         9   \\\n",
      "phylo_concat                                                             \n",
      "Archaea                                             0.000000  0.000094   \n",
      "Archaea, Crenarchaeota                              0.000000  0.000012   \n",
      "Archaea, Crenarchaeota, Thermoprotei                0.000000  0.000030   \n",
      "Archaea, Crenarchaeota, Thermoprotei, Acidilobales  0.000000  0.000028   \n",
      "Archaea, Crenarchaeota, Thermoprotei, Desulfuro...  0.000003  0.000090   \n",
      "\n",
      "week                                                      10        11  12  \\\n",
      "phylo_concat                                                                 \n",
      "Archaea                                             0.000000  0.000001   0   \n",
      "Archaea, Crenarchaeota                              0.000000  0.000000   0   \n",
      "Archaea, Crenarchaeota, Thermoprotei                0.000000  0.000000   0   \n",
      "Archaea, Crenarchaeota, Thermoprotei, Acidilobales  0.000002  0.000001   0   \n",
      "Archaea, Crenarchaeota, Thermoprotei, Desulfuro...  0.000000  0.000000   0   \n",
      "\n",
      "week                                                13  14  \n",
      "phylo_concat                                                \n",
      "Archaea                                              0   0  \n",
      "Archaea, Crenarchaeota                               0   0  \n",
      "Archaea, Crenarchaeota, Thermoprotei                 0   0  \n",
      "Archaea, Crenarchaeota, Thermoprotei, Acidilobales   0   0  \n",
      "Archaea, Crenarchaeota, Thermoprotei, Desulfuro...   0   0  \n",
      "week                                                4         5         6   \\\n",
      "phylo_concat                                                                 \n",
      "Archaea                                              0  0.000014  0.000024   \n",
      "Archaea, Crenarchaeota                               0  0.000007  0.000000   \n",
      "Archaea, Crenarchaeota, Thermoprotei, Acidilobales   0  0.000000  0.000003   \n",
      "Archaea, Crenarchaeota, Thermoprotei, Desulfuro...   0  0.000012  0.000002   \n",
      "Archaea, Crenarchaeota, Thermoprotei, Fervidico...   0  0.000000  0.000000   \n",
      "\n",
      "week                                                7         8         9   \\\n",
      "phylo_concat                                                                 \n",
      "Archaea                                              0  0.000005  0.000000   \n",
      "Archaea, Crenarchaeota                               0  0.000003  0.000000   \n",
      "Archaea, Crenarchaeota, Thermoprotei, Acidilobales   0  0.000003  0.000000   \n",
      "Archaea, Crenarchaeota, Thermoprotei, Desulfuro...   0  0.000001  0.000001   \n",
      "Archaea, Crenarchaeota, Thermoprotei, Fervidico...   0  0.000032  0.000000   \n",
      "\n",
      "week                                                      10  11  12  13  14  \n",
      "phylo_concat                                                                  \n",
      "Archaea                                             0.000000   0   0   0   0  \n",
      "Archaea, Crenarchaeota                              0.000000   0   0   0   0  \n",
      "Archaea, Crenarchaeota, Thermoprotei, Acidilobales  0.000000   0   0   0   0  \n",
      "Archaea, Crenarchaeota, Thermoprotei, Desulfuro...  0.000002   0   0   0   0  \n",
      "Archaea, Crenarchaeota, Thermoprotei, Fervidico...  0.000050   0   0   0   0  \n",
      "week                                                      4         5   \\\n",
      "phylo_concat                                                             \n",
      "Archaea                                             0.000121  0.000000   \n",
      "Archaea, Crenarchaeota                              0.000018  0.000000   \n",
      "Archaea, Crenarchaeota, Thermoprotei                0.000028  0.000004   \n",
      "Archaea, Crenarchaeota, Thermoprotei, Acidilobales  0.000020  0.000000   \n",
      "Archaea, Crenarchaeota, Thermoprotei, Desulfuro...  0.000082  0.000000   \n",
      "\n",
      "week                                                      6             7   \\\n",
      "phylo_concat                                                                 \n",
      "Archaea                                             0.000005  0.000000e+00   \n",
      "Archaea, Crenarchaeota                              0.000000  0.000000e+00   \n",
      "Archaea, Crenarchaeota, Thermoprotei                0.000002  8.780000e-07   \n",
      "Archaea, Crenarchaeota, Thermoprotei, Acidilobales  0.000001  0.000000e+00   \n",
      "Archaea, Crenarchaeota, Thermoprotei, Desulfuro...  0.000005  0.000000e+00   \n",
      "\n",
      "week                                                      8         9   \\\n",
      "phylo_concat                                                             \n",
      "Archaea                                             0.000001  0.000008   \n",
      "Archaea, Crenarchaeota                              0.000002  0.000002   \n",
      "Archaea, Crenarchaeota, Thermoprotei                0.000000  0.000005   \n",
      "Archaea, Crenarchaeota, Thermoprotei, Acidilobales  0.000000  0.000006   \n",
      "Archaea, Crenarchaeota, Thermoprotei, Desulfuro...  0.000004  0.000015   \n",
      "\n",
      "week                                                          10  11  12  \\\n",
      "phylo_concat                                                               \n",
      "Archaea                                             0.000000e+00   0   0   \n",
      "Archaea, Crenarchaeota                              0.000000e+00   0   0   \n",
      "Archaea, Crenarchaeota, Thermoprotei                0.000000e+00   0   0   \n",
      "Archaea, Crenarchaeota, Thermoprotei, Acidilobales  5.480000e-07   0   0   \n",
      "Archaea, Crenarchaeota, Thermoprotei, Desulfuro...  1.070000e-06   0   0   \n",
      "\n",
      "week                                                      13  14  \n",
      "phylo_concat                                                      \n",
      "Archaea                                             0.000002   0  \n",
      "Archaea, Crenarchaeota                              0.000000   0  \n",
      "Archaea, Crenarchaeota, Thermoprotei                0.000000   0  \n",
      "Archaea, Crenarchaeota, Thermoprotei, Acidilobales  0.000000   0  \n",
      "Archaea, Crenarchaeota, Thermoprotei, Desulfuro...  0.000000   0  \n",
      "week                                                      4   5         6   \\\n",
      "phylo_concat                                                                 \n",
      "Archaea                                             0.000000   0  0.000000   \n",
      "Archaea, Crenarchaeota                              0.000000   0  0.000000   \n",
      "Archaea, Crenarchaeota, Thermoprotei, Acidilobales  0.000000   0  0.000000   \n",
      "Archaea, Crenarchaeota, Thermoprotei, Desulfuro...  0.000009   0  0.000005   \n",
      "Archaea, Crenarchaeota, Thermoprotei, Sulfolobales  0.000006   0  0.000000   \n",
      "\n",
      "week                                                      7         8   \\\n",
      "phylo_concat                                                             \n",
      "Archaea                                             0.000014  0.000002   \n",
      "Archaea, Crenarchaeota                              0.000003  0.000000   \n",
      "Archaea, Crenarchaeota, Thermoprotei, Acidilobales  0.000003  0.000002   \n",
      "Archaea, Crenarchaeota, Thermoprotei, Desulfuro...  0.000000  0.000004   \n",
      "Archaea, Crenarchaeota, Thermoprotei, Sulfolobales  0.000000  0.000000   \n",
      "\n",
      "week                                                      9   10        11  \\\n",
      "phylo_concat                                                                 \n",
      "Archaea                                             0.000081   0  0.000002   \n",
      "Archaea, Crenarchaeota                              0.000000   0  0.000000   \n",
      "Archaea, Crenarchaeota, Thermoprotei, Acidilobales  0.000000   0  0.000000   \n",
      "Archaea, Crenarchaeota, Thermoprotei, Desulfuro...  0.000000   0  0.000002   \n",
      "Archaea, Crenarchaeota, Thermoprotei, Sulfolobales  0.000002   0  0.000002   \n",
      "\n",
      "week                                                12            13  14  \n",
      "phylo_concat                                                              \n",
      "Archaea                                              0  0.000000e+00   0  \n",
      "Archaea, Crenarchaeota                               0  0.000000e+00   0  \n",
      "Archaea, Crenarchaeota, Thermoprotei, Acidilobales   0  0.000000e+00   0  \n",
      "Archaea, Crenarchaeota, Thermoprotei, Desulfuro...   0  0.000000e+00   0  \n",
      "Archaea, Crenarchaeota, Thermoprotei, Sulfolobales   0  7.530000e-07   0  \n",
      "week                                                      4         5   \\\n",
      "phylo_concat                                                             \n",
      "Archaea                                             0.000015  0.000000   \n",
      "Archaea, Crenarchaeota                              0.000005  0.000000   \n",
      "Archaea, Crenarchaeota, Thermoprotei                0.000000  0.000000   \n",
      "Archaea, Crenarchaeota, Thermoprotei, Acidilobales  0.000000  0.000000   \n",
      "Archaea, Crenarchaeota, Thermoprotei, Desulfuro...  0.000000  0.000006   \n",
      "\n",
      "week                                                      6         7   8   \\\n",
      "phylo_concat                                                                 \n",
      "Archaea                                             0.000000  0.000010   0   \n",
      "Archaea, Crenarchaeota                              0.000000  0.000002   0   \n",
      "Archaea, Crenarchaeota, Thermoprotei                0.000000  0.000005   0   \n",
      "Archaea, Crenarchaeota, Thermoprotei, Acidilobales  0.000000  0.000004   0   \n",
      "Archaea, Crenarchaeota, Thermoprotei, Desulfuro...  0.000004  0.000010   0   \n",
      "\n",
      "week                                                      9         10  \\\n",
      "phylo_concat                                                             \n",
      "Archaea                                             0.000022  0.000001   \n",
      "Archaea, Crenarchaeota                              0.000007  0.000000   \n",
      "Archaea, Crenarchaeota, Thermoprotei                0.000000  0.000000   \n",
      "Archaea, Crenarchaeota, Thermoprotei, Acidilobales  0.000004  0.000001   \n",
      "Archaea, Crenarchaeota, Thermoprotei, Desulfuro...  0.000012  0.000000   \n",
      "\n",
      "week                                                      11  12  13        14  \n",
      "phylo_concat                                                                    \n",
      "Archaea                                             0.000028   0   0  0.000000  \n",
      "Archaea, Crenarchaeota                              0.000000   0   0  0.000000  \n",
      "Archaea, Crenarchaeota, Thermoprotei                0.000000   0   0  0.000000  \n",
      "Archaea, Crenarchaeota, Thermoprotei, Acidilobales  0.000000   0   0  0.000000  \n",
      "Archaea, Crenarchaeota, Thermoprotei, Desulfuro...  0.000000   0   0  0.000004  \n",
      "week                                                      4         5   \\\n",
      "phylo_concat                                                             \n",
      "Archaea                                             0.000007  0.000000   \n",
      "Archaea, Crenarchaeota                              0.000000  0.000000   \n",
      "Archaea, Crenarchaeota, Thermoprotei, Acidilobales  0.000000  0.000000   \n",
      "Archaea, Crenarchaeota, Thermoprotei, Desulfuro...  0.000009  0.000024   \n",
      "Archaea, Crenarchaeota, Thermoprotei, Fervidico...  0.000000  0.000000   \n",
      "\n",
      "week                                                      6         7   8   \\\n",
      "phylo_concat                                                                 \n",
      "Archaea                                             0.000012  0.000000   0   \n",
      "Archaea, Crenarchaeota                              0.000000  0.000000   0   \n",
      "Archaea, Crenarchaeota, Thermoprotei, Acidilobales  0.000000  0.000002   0   \n",
      "Archaea, Crenarchaeota, Thermoprotei, Desulfuro...  0.000000  0.000000   0   \n",
      "Archaea, Crenarchaeota, Thermoprotei, Fervidico...  0.000000  0.000000   0   \n",
      "\n",
      "week                                                          9   10  \\\n",
      "phylo_concat                                                           \n",
      "Archaea                                             0.000000e+00   0   \n",
      "Archaea, Crenarchaeota                              7.640000e-07   0   \n",
      "Archaea, Crenarchaeota, Thermoprotei, Acidilobales  0.000000e+00   0   \n",
      "Archaea, Crenarchaeota, Thermoprotei, Desulfuro...  0.000000e+00   0   \n",
      "Archaea, Crenarchaeota, Thermoprotei, Fervidico...  0.000000e+00   0   \n",
      "\n",
      "week                                                          11  \\\n",
      "phylo_concat                                                       \n",
      "Archaea                                             0.000000e+00   \n",
      "Archaea, Crenarchaeota                              0.000000e+00   \n",
      "Archaea, Crenarchaeota, Thermoprotei, Acidilobales  4.910000e-07   \n",
      "Archaea, Crenarchaeota, Thermoprotei, Desulfuro...  0.000000e+00   \n",
      "Archaea, Crenarchaeota, Thermoprotei, Fervidico...  1.020000e-05   \n",
      "\n",
      "week                                                          12        13  \\\n",
      "phylo_concat                                                                 \n",
      "Archaea                                             0.000000e+00  0.000000   \n",
      "Archaea, Crenarchaeota                              0.000000e+00  0.000000   \n",
      "Archaea, Crenarchaeota, Thermoprotei, Acidilobales  0.000000e+00  0.000000   \n",
      "Archaea, Crenarchaeota, Thermoprotei, Desulfuro...  7.580000e-07  0.000000   \n",
      "Archaea, Crenarchaeota, Thermoprotei, Fervidico...  0.000000e+00  0.000009   \n",
      "\n",
      "week                                                          14  \n",
      "phylo_concat                                                      \n",
      "Archaea                                             0.000000e+00  \n",
      "Archaea, Crenarchaeota                              0.000000e+00  \n",
      "Archaea, Crenarchaeota, Thermoprotei, Acidilobales  0.000000e+00  \n",
      "Archaea, Crenarchaeota, Thermoprotei, Desulfuro...  7.400000e-07  \n",
      "Archaea, Crenarchaeota, Thermoprotei, Fervidico...  0.000000e+00  \n",
      "week                                                      4         5   \\\n",
      "phylo_concat                                                             \n",
      "Archaea                                             0.000028  0.000511   \n",
      "Archaea, Crenarchaeota                              0.000000  0.000045   \n",
      "Archaea, Crenarchaeota, Thermoprotei                0.000026  0.000076   \n",
      "Archaea, Crenarchaeota, Thermoprotei, Acidilobales  0.000007  0.000099   \n",
      "Archaea, Crenarchaeota, Thermoprotei, Desulfuro...  0.000005  0.000227   \n",
      "\n",
      "week                                                      6         7   \\\n",
      "phylo_concat                                                             \n",
      "Archaea                                             0.000136  0.000000   \n",
      "Archaea, Crenarchaeota                              0.000006  0.000000   \n",
      "Archaea, Crenarchaeota, Thermoprotei                0.000058  0.000009   \n",
      "Archaea, Crenarchaeota, Thermoprotei, Acidilobales  0.000043  0.000003   \n",
      "Archaea, Crenarchaeota, Thermoprotei, Desulfuro...  0.000073  0.000007   \n",
      "\n",
      "week                                                      8         9   10  \\\n",
      "phylo_concat                                                                 \n",
      "Archaea                                             0.000134  0.000009   0   \n",
      "Archaea, Crenarchaeota                              0.000023  0.000000   0   \n",
      "Archaea, Crenarchaeota, Thermoprotei                0.000011  0.000006   0   \n",
      "Archaea, Crenarchaeota, Thermoprotei, Acidilobales  0.000008  0.000020   0   \n",
      "Archaea, Crenarchaeota, Thermoprotei, Desulfuro...  0.000066  0.000005   0   \n",
      "\n",
      "week                                                      11  12  13        14  \n",
      "phylo_concat                                                                    \n",
      "Archaea                                             0.000000   0   0  0.000000  \n",
      "Archaea, Crenarchaeota                              0.000008   0   0  0.000000  \n",
      "Archaea, Crenarchaeota, Thermoprotei                0.000000   0   0  0.000000  \n",
      "Archaea, Crenarchaeota, Thermoprotei, Acidilobales  0.000002   0   0  0.000000  \n",
      "Archaea, Crenarchaeota, Thermoprotei, Desulfuro...  0.000000   0   0  0.000001  \n",
      "week                                                4         5         6   \\\n",
      "phylo_concat                                                                 \n",
      "Archaea                                              0  0.000000  0.000027   \n",
      "Archaea, Crenarchaeota, Thermoprotei, Acidilobales   0  0.000000  0.000003   \n",
      "Archaea, Crenarchaeota, Thermoprotei, Desulfuro...   0  0.000000  0.000003   \n",
      "Archaea, Crenarchaeota, Thermoprotei, Fervidico...   0  0.000000  0.000000   \n",
      "Archaea, Crenarchaeota, Thermoprotei, Sulfolobales   0  0.000008  0.000000   \n",
      "\n",
      "week                                                      7         8   \\\n",
      "phylo_concat                                                             \n",
      "Archaea                                             0.000005  0.000000   \n",
      "Archaea, Crenarchaeota, Thermoprotei, Acidilobales  0.000002  0.000004   \n",
      "Archaea, Crenarchaeota, Thermoprotei, Desulfuro...  0.000002  0.000000   \n",
      "Archaea, Crenarchaeota, Thermoprotei, Fervidico...  0.000019  0.000000   \n",
      "Archaea, Crenarchaeota, Thermoprotei, Sulfolobales  0.000000  0.000000   \n",
      "\n",
      "week                                                      9   10        11  \\\n",
      "phylo_concat                                                                 \n",
      "Archaea                                             0.000002   0  0.000003   \n",
      "Archaea, Crenarchaeota, Thermoprotei, Acidilobales  0.000000   0  0.000000   \n",
      "Archaea, Crenarchaeota, Thermoprotei, Desulfuro...  0.000002   0  0.000000   \n",
      "Archaea, Crenarchaeota, Thermoprotei, Fervidico...  0.000000   0  0.000000   \n",
      "Archaea, Crenarchaeota, Thermoprotei, Sulfolobales  0.000000   0  0.000002   \n",
      "\n",
      "week                                                      12  13  14  \n",
      "phylo_concat                                                          \n",
      "Archaea                                             0.000000   0   0  \n",
      "Archaea, Crenarchaeota, Thermoprotei, Acidilobales  0.000000   0   0  \n",
      "Archaea, Crenarchaeota, Thermoprotei, Desulfuro...  0.000002   0   0  \n",
      "Archaea, Crenarchaeota, Thermoprotei, Fervidico...  0.000000   0   0  \n",
      "Archaea, Crenarchaeota, Thermoprotei, Sulfolobales  0.000000   0   0  \n"
     ]
    }
   ],
   "source": [
    "# Only look for bacteria who are p% of the population in at least 1 sample. \n",
    "mappings, nodes = dmd.find_fixed_adjacency_matrix(p/100,'order',True)"
   ]
  },
  {
   "cell_type": "code",
   "execution_count": 6,
   "metadata": {
    "collapsed": false
   },
   "outputs": [
    {
     "name": "stderr",
     "output_type": "stream",
     "text": [
      "network_construction.py:106: ComplexWarning: Casting complex values to real discards the imaginary part\n",
      "  new_adj[i][j] = adj[node1][node2]\n"
     ]
    }
   ],
   "source": [
    "# Only pull out species that have interactions with another member with magnitude greater than 0.5\n",
    "mappings, nodes = net.reduce_all_adjacency_matrixes_in_dict(mappings, nodes, \n",
    "                                                            adjacency_magnitude)"
   ]
  },
  {
   "cell_type": "code",
   "execution_count": 7,
   "metadata": {
    "collapsed": true
   },
   "outputs": [],
   "source": [
    "# Convert all of the dataframes to Pandas\n",
    "mappings = dmd.DMD_results_dict_from_numpy_to_pandas(mappings,nodes)\n",
    "std_mappings, avg_mappings, snr_mappings = dmd.aggregate_adjacency_matrix_over_replicates(mappings)"
   ]
  },
  {
   "cell_type": "code",
   "execution_count": 8,
   "metadata": {
    "collapsed": true
   },
   "outputs": [],
   "source": [
    "# Plot them all. "
   ]
  },
  {
   "cell_type": "code",
   "execution_count": 9,
   "metadata": {
    "collapsed": false
   },
   "outputs": [
    {
     "data": {
      "text/plain": [
       "['High', 'Low']"
      ]
     },
     "execution_count": 9,
     "metadata": {},
     "output_type": "execute_result"
    }
   ],
   "source": [
    "avg_mappings.keys()"
   ]
  },
  {
   "cell_type": "code",
   "execution_count": 10,
   "metadata": {
    "collapsed": false
   },
   "outputs": [],
   "source": [
    "plot_dir = './plots/poster'\n",
    "if not os.path.exists(plot_dir):\n",
    "    os.makedirs(plot_dir)"
   ]
  },
  {
   "cell_type": "code",
   "execution_count": 11,
   "metadata": {
    "collapsed": false
   },
   "outputs": [
    {
     "data": {
      "text/plain": [
       "<matplotlib.figure.Figure at 0x115c63b90>"
      ]
     },
     "metadata": {},
     "output_type": "display_data"
    }
   ],
   "source": [
    "net.plot_heatmap(avg_mappings['High'], \n",
    "                 'Most Significant Interactions: High Oxygen', \n",
    "                 './plots/poster/poster_high_average',\n",
    "                filetype='.png',\n",
    "                width=14, height=11.5)"
   ]
  },
  {
   "cell_type": "code",
   "execution_count": 12,
   "metadata": {
    "collapsed": false
   },
   "outputs": [
    {
     "data": {
      "text/plain": [
       "<matplotlib.figure.Figure at 0x115c69d90>"
      ]
     },
     "metadata": {},
     "output_type": "display_data"
    }
   ],
   "source": [
    "net.plot_heatmap(avg_mappings['Low'], \n",
    "                 'Most Significant Interactions: Low Oxygen', \n",
    "                 './plots/poster/poster_low_average',\n",
    "                filetype='.png',\n",
    "                width=14, height=11.5)"
   ]
  },
  {
   "cell_type": "code",
   "execution_count": 13,
   "metadata": {
    "collapsed": false
   },
   "outputs": [
    {
     "data": {
      "text/plain": [
       "<matplotlib.figure.Figure at 0x115d5bb10>"
      ]
     },
     "metadata": {},
     "output_type": "display_data"
    }
   ],
   "source": [
    "net.plot_heatmap(std_mappings['High'], \n",
    "                 'Standard Deviation of Interactions: High Oxygen', \n",
    "                 './plots/poster/poster_high_std',\n",
    "                filetype='.png')"
   ]
  },
  {
   "cell_type": "code",
   "execution_count": 14,
   "metadata": {
    "collapsed": false
   },
   "outputs": [
    {
     "data": {
      "text/plain": [
       "<matplotlib.figure.Figure at 0x10ece2f10>"
      ]
     },
     "metadata": {},
     "output_type": "display_data"
    }
   ],
   "source": [
    "net.plot_heatmap(std_mappings['Low'], \n",
    "                 'Standard Deviation of Interactions: Low Oxygen', \n",
    "                 './plots/poster/poster_low_std',\n",
    "                filetype='.png')"
   ]
  },
  {
   "cell_type": "code",
   "execution_count": 15,
   "metadata": {
    "collapsed": false
   },
   "outputs": [
    {
     "data": {
      "text/plain": [
       "<matplotlib.figure.Figure at 0x115bc7510>"
      ]
     },
     "metadata": {},
     "output_type": "display_data"
    }
   ],
   "source": [
    "net.plot_heatmap(snr_mappings['High'], \n",
    "                 'Signal To Noise: High Oxygen', \n",
    "                 './plots/poster/poster_high_sig_to_noise',\n",
    "                filetype='.png')"
   ]
  },
  {
   "cell_type": "code",
   "execution_count": 16,
   "metadata": {
    "collapsed": false
   },
   "outputs": [
    {
     "data": {
      "text/plain": [
       "<matplotlib.figure.Figure at 0x115f323d0>"
      ]
     },
     "metadata": {},
     "output_type": "display_data"
    }
   ],
   "source": [
    "net.plot_heatmap(snr_mappings['Low'], \n",
    "                 'Signal To Noise: Low Oxygen', \n",
    "                 './plots/poster/poster_low_sig_to_noise',\n",
    "                filetype='.png')"
   ]
  },
  {
   "cell_type": "code",
   "execution_count": 17,
   "metadata": {
    "collapsed": false
   },
   "outputs": [
    {
     "data": {
      "text/plain": [
       "[('High', 4),\n",
       " ('Low', 1),\n",
       " ('High', 3),\n",
       " ('Low', 2),\n",
       " ('High', 2),\n",
       " ('Low', 3),\n",
       " ('High', 1),\n",
       " ('Low', 4)]"
      ]
     },
     "execution_count": 17,
     "metadata": {},
     "output_type": "execute_result"
    }
   ],
   "source": [
    "mappings.keys()"
   ]
  },
  {
   "cell_type": "code",
   "execution_count": 18,
   "metadata": {
    "collapsed": false
   },
   "outputs": [],
   "source": [
    "# mappings, nodes\n",
    "low_agg = net.aggregate_adjacency_matrices([\n",
    "        mappings[('Low', 1)],\n",
    "        mappings[('Low', 2)],\n",
    "        mappings[('Low', 3)],\n",
    "        mappings[('Low', 4)]\n",
    "    ])"
   ]
  },
  {
   "cell_type": "code",
   "execution_count": 19,
   "metadata": {
    "collapsed": false
   },
   "outputs": [
    {
     "data": {
      "text/plain": [
       "['standard deviation', 'mean']"
      ]
     },
     "execution_count": 19,
     "metadata": {},
     "output_type": "execute_result"
    }
   ],
   "source": [
    "low_agg.keys()"
   ]
  },
  {
   "cell_type": "code",
   "execution_count": 26,
   "metadata": {
    "collapsed": false
   },
   "outputs": [
    {
     "data": {
      "text/plain": [
       "<matplotlib.figure.Figure at 0x115f53050>"
      ]
     },
     "metadata": {},
     "output_type": "display_data"
    }
   ],
   "source": [
    "p_low = net.plot_heatmap(low_agg['mean'], \n",
    "                         'Low Oxygen: Most Significant Interactions', \n",
    "                         './plots/poster/low_avg--FROM_PANELS', \n",
    "                         filetype='.png',\n",
    "                         width=14, height=10) "
   ]
  },
  {
   "cell_type": "code",
   "execution_count": 21,
   "metadata": {
    "collapsed": true
   },
   "outputs": [],
   "source": [
    "# mappings, nodes\n",
    "high_agg = net.aggregate_adjacency_matrices([\n",
    "        mappings[('High', 1)],\n",
    "        mappings[('High', 2)],\n",
    "        mappings[('High', 3)],\n",
    "        mappings[('High', 4)]\n",
    "    ])"
   ]
  },
  {
   "cell_type": "code",
   "execution_count": 29,
   "metadata": {
    "collapsed": false
   },
   "outputs": [
    {
     "data": {
      "text/plain": [
       "<matplotlib.figure.Figure at 0x11362d3d0>"
      ]
     },
     "metadata": {},
     "output_type": "display_data"
    }
   ],
   "source": [
    "p_high = net.plot_heatmap(high_agg['mean'], \n",
    "                          'High Oxygen: Most Significant Interactions', \n",
    "                          './plots/poster/high_avg--FROM_PANELS', \n",
    "                         filetype='.png',\n",
    "                width=14, height=10) "
   ]
  },
  {
   "cell_type": "code",
   "execution_count": null,
   "metadata": {
    "collapsed": true
   },
   "outputs": [],
   "source": []
  },
  {
   "cell_type": "code",
   "execution_count": 23,
   "metadata": {
    "collapsed": false
   },
   "outputs": [],
   "source": [
    "aggregated_results_Panels = \\\n",
    "    net.summarize_replicate_adjacency_matrices(mappings)"
   ]
  },
  {
   "cell_type": "code",
   "execution_count": 24,
   "metadata": {
    "collapsed": false
   },
   "outputs": [
    {
     "data": {
      "text/plain": [
       "['high', 'Low']"
      ]
     },
     "execution_count": 24,
     "metadata": {},
     "output_type": "execute_result"
    }
   ],
   "source": [
    "aggregated_results_Panels.keys()"
   ]
  },
  {
   "cell_type": "code",
   "execution_count": null,
   "metadata": {
    "collapsed": true
   },
   "outputs": [],
   "source": []
  }
 ],
 "metadata": {
  "kernelspec": {
   "display_name": "Python 2",
   "language": "python",
   "name": "python2"
  },
  "language_info": {
   "codemirror_mode": {
    "name": "ipython",
    "version": 2
   },
   "file_extension": ".py",
   "mimetype": "text/x-python",
   "name": "python",
   "nbconvert_exporter": "python",
   "pygments_lexer": "ipython2",
   "version": "2.7.5"
  }
 },
 "nbformat": 4,
 "nbformat_minor": 0
}
